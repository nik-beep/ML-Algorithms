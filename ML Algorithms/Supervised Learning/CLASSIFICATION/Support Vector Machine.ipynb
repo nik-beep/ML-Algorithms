{
 "cells": [
  {
   "cell_type": "code",
   "execution_count": 1,
   "metadata": {},
   "outputs": [
    {
     "name": "stderr",
     "output_type": "stream",
     "text": [
      "C:\\Users\\nikhil reddy\\anaconda3\\lib\\site-packages\\sklearn\\utils\\deprecation.py:143: FutureWarning: The sklearn.datasets.samples_generator module is  deprecated in version 0.22 and will be removed in version 0.24. The corresponding classes / functions should instead be imported from sklearn.datasets. Anything that cannot be imported from sklearn.datasets is now part of the private API.\n",
      "  warnings.warn(message, FutureWarning)\n"
     ]
    }
   ],
   "source": [
    "#Import the Libraries \n",
    "import numpy as np\n",
    "import matplotlib.pyplot as plt\n",
    "from sklearn import svm\n",
    "from sklearn.datasets.samples_generator import make_blobs"
   ]
  },
  {
   "cell_type": "markdown",
   "metadata": {},
   "source": [
    "Create Random Data \n",
    "40 Samples , 2 Sets , one set 20 each "
   ]
  },
  {
   "cell_type": "code",
   "execution_count": 3,
   "metadata": {},
   "outputs": [
    {
     "name": "stdout",
     "output_type": "stream",
     "text": [
      "[[ 1.71842122  9.52190711]\n",
      " [ 9.13204399  5.32194764]\n",
      " [ 8.68770841  7.79789319]\n",
      " [ 2.8137247   8.36064298]\n",
      " [ 7.27542879  6.31825811]\n",
      " [ 0.48311336  8.19998973]\n",
      " [ 7.9294032   6.08842852]\n",
      " [ 2.69548237 10.01411256]\n",
      " [ 2.26571286  8.36068903]\n",
      " [ 0.82767806  6.34128434]\n",
      " [ 0.87712287  6.84969507]\n",
      " [ 6.86839861  5.83429863]\n",
      " [ 0.97059923  7.11190662]\n",
      " [ 2.12015254  5.61101265]\n",
      " [ 2.88274828  9.28705277]\n",
      " [ 8.47704476  6.80415251]\n",
      " [ 7.61095347  7.8201477 ]\n",
      " [ 1.65359865  9.510461  ]\n",
      " [ 2.08607703  7.46086368]\n",
      " [ 9.92527993  6.67617854]\n",
      " [ 2.09222936  6.81774802]\n",
      " [ 1.59396992  4.76457177]\n",
      " [ 0.67778343  8.51397085]\n",
      " [ 7.86880706  7.3062361 ]\n",
      " [ 8.32405183  3.6123843 ]\n",
      " [ 8.35834306  6.47258777]\n",
      " [ 2.28968574  6.40317382]\n",
      " [ 6.34822954  5.46058533]\n",
      " [ 7.22830657  7.86147791]\n",
      " [ 8.47764867  6.90996676]\n",
      " [ 1.89139437  5.88732584]\n",
      " [ 8.26863909  7.67453856]\n",
      " [ 1.42412542  8.27524534]\n",
      " [ 2.70208537  6.97579352]\n",
      " [ 8.52161671  4.83102994]\n",
      " [ 7.00192182  6.43079715]\n",
      " [ 9.03512586  7.66854573]\n",
      " [ 1.51927726  7.82424385]\n",
      " [ 6.9758391   5.80360444]\n",
      " [ 7.59114483  6.77649377]]\n",
      "[0 1 1 0 1 0 1 0 0 0 0 1 0 0 0 1 1 0 0 1 0 0 0 1 1 1 0 1 1 1 0 1 0 0 1 1 1\n",
      " 0 1 1]\n"
     ]
    }
   ],
   "source": [
    "x,y = make_blobs(n_samples = 40,centers = 2,random_state =20)\n",
    "print(x)\n",
    "print(y)"
   ]
  },
  {
   "cell_type": "code",
   "execution_count": 4,
   "metadata": {},
   "outputs": [
    {
     "data": {
      "text/plain": [
       "SVC(C=1, kernel='linear')"
      ]
     },
     "execution_count": 4,
     "metadata": {},
     "output_type": "execute_result"
    }
   ],
   "source": [
    "# Create the Model \n",
    "clf = svm.SVC(kernel = 'linear',C=1)\n",
    "clf.fit(x,y)"
   ]
  },
  {
   "cell_type": "code",
   "execution_count": 5,
   "metadata": {},
   "outputs": [
    {
     "data": {
      "image/png": "[encoded data removed]",
      "text/plain": [
       "<Figure size 432x288 with 1 Axes>"
      ]
     },
     "metadata": {
      "needs_background": "light"
     },
     "output_type": "display_data"
    }
   ],
   "source": [
    "# Plot the Data \n",
    "plt.scatter(x[:,0],x[:,1], c= y,s=30)\n",
    "plt.show()"
   ]
  },
  {
   "cell_type": "code",
   "execution_count": 6,
   "metadata": {},
   "outputs": [
    {
     "name": "stdout",
     "output_type": "stream",
     "text": [
      "[0 1]\n"
     ]
    }
   ],
   "source": [
    "# Predict\n",
    "newdata = [[3,4],[5,6]]\n",
    "print (clf.predict(newdata)) "
   ]
  },
  {
   "cell_type": "code",
   "execution_count": 7,
   "metadata": {},
   "outputs": [
    {
     "data": {
      "text/plain": [
       "array([0, 1, 1, 0, 1, 0, 1, 0, 0, 0, 0, 1, 0, 0, 0, 1, 1, 0, 0, 1, 0, 0,\n",
       "       0, 1, 1, 1, 0, 1, 1, 1, 0, 1, 0, 0, 1, 1, 1, 0, 1, 1])"
      ]
     },
     "execution_count": 7,
     "metadata": {},
     "output_type": "execute_result"
    }
   ],
   "source": [
    "y_pred=clf.predict(x)\n",
    "y_pred"
   ]
  },
  {
   "cell_type": "code",
   "execution_count": 8,
   "metadata": {},
   "outputs": [
    {
     "name": "stdout",
     "output_type": "stream",
     "text": [
      "[[20  0]\n",
      " [ 0 20]]\n"
     ]
    }
   ],
   "source": [
    "# Confusion Matrix to check Accuracy \n",
    "from sklearn.metrics import confusion_matrix \n",
    "cm = confusion_matrix (y,y_pred)\n",
    "print (cm)"
   ]
  },
  {
   "cell_type": "markdown",
   "metadata": {},
   "source": [
    "# Kernel must be one of 'linear', 'poly', 'rbf'(Radial basis function) , 'sigmoid', 'precomputed' "
   ]
  },
  {
   "cell_type": "code",
   "execution_count": 11,
   "metadata": {},
   "outputs": [],
   "source": [
    "from sklearn.model_selection import train_test_split\n",
    "x_train,x_test,y_train,y_test = train_test_split(x,y,test_size= 0.2)"
   ]
  },
  {
   "cell_type": "code",
   "execution_count": 12,
   "metadata": {},
   "outputs": [
    {
     "data": {
      "text/plain": [
       "SVC(kernel='sigmoid')"
      ]
     },
     "execution_count": 12,
     "metadata": {},
     "output_type": "execute_result"
    }
   ],
   "source": [
    "from sklearn.svm import SVC\n",
    "classifier = SVC (kernel = 'sigmoid')\n",
    "classifier.fit (x_train,y_train)"
   ]
  },
  {
   "cell_type": "code",
   "execution_count": 13,
   "metadata": {},
   "outputs": [],
   "source": [
    "# Predict the Result \n",
    "y_pred= classifier.predict(x)"
   ]
  },
  {
   "cell_type": "code",
   "execution_count": 14,
   "metadata": {},
   "outputs": [
    {
     "data": {
      "text/plain": [
       "0.5"
      ]
     },
     "execution_count": 14,
     "metadata": {},
     "output_type": "execute_result"
    }
   ],
   "source": [
    "# Accuracy Score to check Accuracy \n",
    "from sklearn.metrics import accuracy_score\n",
    "accuracy_score (y,y_pred)"
   ]
  },
  {
   "cell_type": "code",
   "execution_count": 15,
   "metadata": {},
   "outputs": [
    {
     "name": "stdout",
     "output_type": "stream",
     "text": [
      "              precision    recall  f1-score   support\n",
      "\n",
      "           0       0.50      0.95      0.66        20\n",
      "           1       0.50      0.05      0.09        20\n",
      "\n",
      "    accuracy                           0.50        40\n",
      "   macro avg       0.50      0.50      0.37        40\n",
      "weighted avg       0.50      0.50      0.37        40\n",
      "\n"
     ]
    }
   ],
   "source": [
    "# Classification Report to check Accuracy \n",
    "from sklearn.metrics import classification_report\n",
    "print(classification_report (y,y_pred))"
   ]
  },
  {
   "cell_type": "code",
   "execution_count": 16,
   "metadata": {},
   "outputs": [
    {
     "name": "stdout",
     "output_type": "stream",
     "text": [
      "[[19  1]\n",
      " [19  1]]\n"
     ]
    }
   ],
   "source": [
    "cm = confusion_matrix (y,y_pred)\n",
    "print (cm)"
   ]
  },
  {
   "cell_type": "code",
   "execution_count": 17,
   "metadata": {},
   "outputs": [
    {
     "name": "stdout",
     "output_type": "stream",
     "text": [
      "1.0\n",
      "              precision    recall  f1-score   support\n",
      "\n",
      "           0       1.00      1.00      1.00        20\n",
      "           1       1.00      1.00      1.00        20\n",
      "\n",
      "    accuracy                           1.00        40\n",
      "   macro avg       1.00      1.00      1.00        40\n",
      "weighted avg       1.00      1.00      1.00        40\n",
      "\n",
      "[[20  0]\n",
      " [ 0 20]]\n"
     ]
    }
   ],
   "source": [
    "## Create Model with Kernal = Poly \n",
    "\n",
    "classifier = SVC (kernel = 'poly')\n",
    "classifier.fit (x_train,y_train)\n",
    "y_pred = classifier.predict (x)\n",
    "print(accuracy_score (y,y_pred))\n",
    "print(classification_report (y,y_pred))\n",
    "cm = confusion_matrix (y,y_pred)\n",
    "print (cm)"
   ]
  },
  {
   "cell_type": "code",
   "execution_count": null,
   "metadata": {},
   "outputs": [],
   "source": []
  }
 ],
 "metadata": {
  "kernelspec": {
   "display_name": "Python 3",
   "language": "python",
   "name": "python3"
  },
  "language_info": {
   "codemirror_mode": {
    "name": "ipython",
    "version": 3
   },
   "file_extension": ".py",
   "mimetype": "text/x-python",
   "name": "python",
   "nbconvert_exporter": "python",
   "pygments_lexer": "ipython3",
   "version": "3.8.5"
  }
 },
 "nbformat": 4,
 "nbformat_minor": 4
}
