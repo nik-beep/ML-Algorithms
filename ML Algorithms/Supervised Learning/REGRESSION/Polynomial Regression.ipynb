{
 "cells": [
  {
   "cell_type": "markdown",
   "metadata": {},
   "source": [
    "y = a0 + a1*x1 + a2*x1square"
   ]
  },
  {
   "cell_type": "code",
   "execution_count": 2,
   "metadata": {},
   "outputs": [],
   "source": [
    "# Import the Libraries \n",
    "import pandas as pd \n",
    "import numpy as np \n",
    "import matplotlib.pyplot as plt \n",
    "from  sklearn.metrics import r2_score\n",
    "import os"
   ]
  },
  {
   "cell_type": "code",
   "execution_count": 3,
   "metadata": {},
   "outputs": [
    {
     "data": {
      "text/html": [
       "<div>\n",
       "<style scoped>\n",
       "    .dataframe tbody tr th:only-of-type {\n",
       "        vertical-align: middle;\n",
       "    }\n",
       "\n",
       "    .dataframe tbody tr th {\n",
       "        vertical-align: top;\n",
       "    }\n",
       "\n",
       "    .dataframe thead th {\n",
       "        text-align: right;\n",
       "    }\n",
       "</style>\n",
       "<table border=\"1\" class=\"dataframe\">\n",
       "  <thead>\n",
       "    <tr style=\"text-align: right;\">\n",
       "      <th></th>\n",
       "      <th>Age</th>\n",
       "      <th>Height</th>\n",
       "    </tr>\n",
       "  </thead>\n",
       "  <tbody>\n",
       "    <tr>\n",
       "      <th>0</th>\n",
       "      <td>10</td>\n",
       "      <td>138</td>\n",
       "    </tr>\n",
       "    <tr>\n",
       "      <th>1</th>\n",
       "      <td>11</td>\n",
       "      <td>138</td>\n",
       "    </tr>\n",
       "    <tr>\n",
       "      <th>2</th>\n",
       "      <td>12</td>\n",
       "      <td>138</td>\n",
       "    </tr>\n",
       "    <tr>\n",
       "      <th>3</th>\n",
       "      <td>13</td>\n",
       "      <td>139</td>\n",
       "    </tr>\n",
       "    <tr>\n",
       "      <th>4</th>\n",
       "      <td>14</td>\n",
       "      <td>139</td>\n",
       "    </tr>\n",
       "    <tr>\n",
       "      <th>...</th>\n",
       "      <td>...</td>\n",
       "      <td>...</td>\n",
       "    </tr>\n",
       "    <tr>\n",
       "      <th>66</th>\n",
       "      <td>76</td>\n",
       "      <td>179</td>\n",
       "    </tr>\n",
       "    <tr>\n",
       "      <th>67</th>\n",
       "      <td>77</td>\n",
       "      <td>182</td>\n",
       "    </tr>\n",
       "    <tr>\n",
       "      <th>68</th>\n",
       "      <td>78</td>\n",
       "      <td>186</td>\n",
       "    </tr>\n",
       "    <tr>\n",
       "      <th>69</th>\n",
       "      <td>79</td>\n",
       "      <td>178</td>\n",
       "    </tr>\n",
       "    <tr>\n",
       "      <th>70</th>\n",
       "      <td>80</td>\n",
       "      <td>175</td>\n",
       "    </tr>\n",
       "  </tbody>\n",
       "</table>\n",
       "<p>71 rows × 2 columns</p>\n",
       "</div>"
      ],
      "text/plain": [
       "    Age  Height\n",
       "0    10     138\n",
       "1    11     138\n",
       "2    12     138\n",
       "3    13     139\n",
       "4    14     139\n",
       "..  ...     ...\n",
       "66   76     179\n",
       "67   77     182\n",
       "68   78     186\n",
       "69   79     178\n",
       "70   80     175\n",
       "\n",
       "[71 rows x 2 columns]"
      ]
     },
     "execution_count": 3,
     "metadata": {},
     "output_type": "execute_result"
    }
   ],
   "source": [
    "# Load Data Set \n",
    "os.chdir('C:\\\\Users\\\\nikhil reddy\\\\Downloads\\\\Day11\\\\Day11\\\\')\n",
    "data = pd.read_csv('Height_Weight_Dataset.csv') \n",
    "data"
   ]
  },
  {
   "cell_type": "code",
   "execution_count": 4,
   "metadata": {},
   "outputs": [],
   "source": [
    "x = data.iloc[:, 0:1].values \n",
    "y = data.iloc[:, 1].values"
   ]
  },
  {
   "cell_type": "code",
   "execution_count": 5,
   "metadata": {},
   "outputs": [
    {
     "data": {
      "text/plain": [
       "[]"
      ]
     },
     "execution_count": 5,
     "metadata": {},
     "output_type": "execute_result"
    },
    {
     "data": {
      "image/png": "[encoded data removed]",
      "text/plain": [
       "<Figure size 432x288 with 1 Axes>"
      ]
     },
     "metadata": {
      "needs_background": "light"
     },
     "output_type": "display_data"
    }
   ],
   "source": [
    "# Create the Graph\n",
    "plt.plot(x,y)\n",
    "plt.xlabel('Age')\n",
    "plt.ylabel('Height')\n",
    "plt.plot()"
   ]
  },
  {
   "cell_type": "code",
   "execution_count": 6,
   "metadata": {},
   "outputs": [],
   "source": [
    "# Train Test Split \n",
    "from sklearn.model_selection import train_test_split\n",
    "x_train, x_test, y_train, y_test = train_test_split(x, y, test_size=0.3, random_state=0)"
   ]
  },
  {
   "cell_type": "code",
   "execution_count": 7,
   "metadata": {},
   "outputs": [
    {
     "data": {
      "text/plain": [
       "LinearRegression()"
      ]
     },
     "execution_count": 7,
     "metadata": {},
     "output_type": "execute_result"
    }
   ],
   "source": [
    "# Create Model  \n",
    "from sklearn.linear_model import LinearRegression\n",
    "LinReg = LinearRegression()\n",
    "LinReg.fit(x_train, y_train)"
   ]
  },
  {
   "cell_type": "code",
   "execution_count": 9,
   "metadata": {},
   "outputs": [
    {
     "name": "stdout",
     "output_type": "stream",
     "text": [
      "0.9476317177567259\n"
     ]
    }
   ],
   "source": [
    "# Prediction and Print Accuracy \n",
    "y_pred = LinReg.predict(x)\n",
    "print (r2_score(y,y_pred))"
   ]
  },
  {
   "cell_type": "code",
   "execution_count": 10,
   "metadata": {},
   "outputs": [
    {
     "data": {
      "image/png": "[encoded data removed]",
      "text/plain": [
       "<Figure size 432x288 with 1 Axes>"
      ]
     },
     "metadata": {
      "needs_background": "light"
     },
     "output_type": "display_data"
    }
   ],
   "source": [
    "plt.scatter(x,y, color = 'green') \n",
    "plt.plot(x, y_pred, color = 'blue') \n",
    "plt.title('Linear Regression') \n",
    "plt.xlabel('Age') \n",
    "plt.ylabel('Height') \n",
    "plt.show()"
   ]
  },
  {
   "cell_type": "markdown",
   "metadata": {},
   "source": [
    "Create Polynomial values for X ( Age ) with Degree 2 . Three columns will be created a0, x1, x1 (Square) . If Degree  = 3 four columns will be created  a0, x1, x1 (square) , x1 (to power 3) "
   ]
  },
  {
   "cell_type": "code",
   "execution_count": 11,
   "metadata": {},
   "outputs": [
    {
     "data": {
      "text/plain": [
       "array([[1.000e+00, 1.000e+01, 1.000e+02],\n",
       "       [1.000e+00, 1.100e+01, 1.210e+02],\n",
       "       [1.000e+00, 1.200e+01, 1.440e+02],\n",
       "       [1.000e+00, 1.300e+01, 1.690e+02],\n",
       "       [1.000e+00, 1.400e+01, 1.960e+02],\n",
       "       [1.000e+00, 1.500e+01, 2.250e+02],\n",
       "       [1.000e+00, 1.600e+01, 2.560e+02],\n",
       "       [1.000e+00, 1.700e+01, 2.890e+02],\n",
       "       [1.000e+00, 1.800e+01, 3.240e+02],\n",
       "       [1.000e+00, 1.900e+01, 3.610e+02],\n",
       "       [1.000e+00, 2.000e+01, 4.000e+02],\n",
       "       [1.000e+00, 2.100e+01, 4.410e+02],\n",
       "       [1.000e+00, 2.200e+01, 4.840e+02],\n",
       "       [1.000e+00, 2.300e+01, 5.290e+02],\n",
       "       [1.000e+00, 2.400e+01, 5.760e+02],\n",
       "       [1.000e+00, 2.500e+01, 6.250e+02],\n",
       "       [1.000e+00, 2.600e+01, 6.760e+02],\n",
       "       [1.000e+00, 2.700e+01, 7.290e+02],\n",
       "       [1.000e+00, 2.800e+01, 7.840e+02],\n",
       "       [1.000e+00, 2.900e+01, 8.410e+02],\n",
       "       [1.000e+00, 3.000e+01, 9.000e+02],\n",
       "       [1.000e+00, 3.100e+01, 9.610e+02],\n",
       "       [1.000e+00, 3.200e+01, 1.024e+03],\n",
       "       [1.000e+00, 3.300e+01, 1.089e+03],\n",
       "       [1.000e+00, 3.400e+01, 1.156e+03],\n",
       "       [1.000e+00, 3.500e+01, 1.225e+03],\n",
       "       [1.000e+00, 3.600e+01, 1.296e+03],\n",
       "       [1.000e+00, 3.700e+01, 1.369e+03],\n",
       "       [1.000e+00, 3.800e+01, 1.444e+03],\n",
       "       [1.000e+00, 3.900e+01, 1.521e+03],\n",
       "       [1.000e+00, 4.000e+01, 1.600e+03],\n",
       "       [1.000e+00, 4.100e+01, 1.681e+03],\n",
       "       [1.000e+00, 4.200e+01, 1.764e+03],\n",
       "       [1.000e+00, 4.300e+01, 1.849e+03],\n",
       "       [1.000e+00, 4.400e+01, 1.936e+03],\n",
       "       [1.000e+00, 4.500e+01, 2.025e+03],\n",
       "       [1.000e+00, 4.600e+01, 2.116e+03],\n",
       "       [1.000e+00, 4.700e+01, 2.209e+03],\n",
       "       [1.000e+00, 4.800e+01, 2.304e+03],\n",
       "       [1.000e+00, 4.900e+01, 2.401e+03],\n",
       "       [1.000e+00, 5.000e+01, 2.500e+03],\n",
       "       [1.000e+00, 5.100e+01, 2.601e+03],\n",
       "       [1.000e+00, 5.200e+01, 2.704e+03],\n",
       "       [1.000e+00, 5.300e+01, 2.809e+03],\n",
       "       [1.000e+00, 5.400e+01, 2.916e+03],\n",
       "       [1.000e+00, 5.500e+01, 3.025e+03],\n",
       "       [1.000e+00, 5.600e+01, 3.136e+03],\n",
       "       [1.000e+00, 5.700e+01, 3.249e+03],\n",
       "       [1.000e+00, 5.800e+01, 3.364e+03],\n",
       "       [1.000e+00, 5.900e+01, 3.481e+03],\n",
       "       [1.000e+00, 6.000e+01, 3.600e+03],\n",
       "       [1.000e+00, 6.100e+01, 3.721e+03],\n",
       "       [1.000e+00, 6.200e+01, 3.844e+03],\n",
       "       [1.000e+00, 6.300e+01, 3.969e+03],\n",
       "       [1.000e+00, 6.400e+01, 4.096e+03],\n",
       "       [1.000e+00, 6.500e+01, 4.225e+03],\n",
       "       [1.000e+00, 6.600e+01, 4.356e+03],\n",
       "       [1.000e+00, 6.700e+01, 4.489e+03],\n",
       "       [1.000e+00, 6.800e+01, 4.624e+03],\n",
       "       [1.000e+00, 6.900e+01, 4.761e+03],\n",
       "       [1.000e+00, 7.000e+01, 4.900e+03],\n",
       "       [1.000e+00, 7.100e+01, 5.041e+03],\n",
       "       [1.000e+00, 7.200e+01, 5.184e+03],\n",
       "       [1.000e+00, 7.300e+01, 5.329e+03],\n",
       "       [1.000e+00, 7.400e+01, 5.476e+03],\n",
       "       [1.000e+00, 7.500e+01, 5.625e+03],\n",
       "       [1.000e+00, 7.600e+01, 5.776e+03],\n",
       "       [1.000e+00, 7.700e+01, 5.929e+03],\n",
       "       [1.000e+00, 7.800e+01, 6.084e+03],\n",
       "       [1.000e+00, 7.900e+01, 6.241e+03],\n",
       "       [1.000e+00, 8.000e+01, 6.400e+03]])"
      ]
     },
     "execution_count": 11,
     "metadata": {},
     "output_type": "execute_result"
    }
   ],
   "source": [
    "from sklearn.preprocessing import PolynomialFeatures \n",
    "polynom = PolynomialFeatures(degree = 2) \n",
    "x_polynom = polynom.fit_transform(x) \n",
    "x_polynom"
   ]
  },
  {
   "cell_type": "code",
   "execution_count": 12,
   "metadata": {},
   "outputs": [],
   "source": [
    "from sklearn.model_selection import train_test_split\n",
    "xpoly_train, xpoly_test, ypoly_train, ypoly_test = train_test_split(x_polynom, y, test_size=0.3, random_state=0)\n"
   ]
  },
  {
   "cell_type": "code",
   "execution_count": 13,
   "metadata": {},
   "outputs": [
    {
     "data": {
      "text/plain": [
       "LinearRegression()"
      ]
     },
     "execution_count": 13,
     "metadata": {},
     "output_type": "execute_result"
    }
   ],
   "source": [
    "# Create Regression model for Polynomial Data \n",
    "PolyReg = LinearRegression() \n",
    "PolyReg.fit(xpoly_train, ypoly_train)"
   ]
  },
  {
   "cell_type": "code",
   "execution_count": 14,
   "metadata": {},
   "outputs": [
    {
     "name": "stdout",
     "output_type": "stream",
     "text": [
      "0.9604493359611312\n"
     ]
    }
   ],
   "source": [
    "# Prediction and Accuracy for polynomial \n",
    "ypoly_pred = PolyReg.predict(x_polynom)\n",
    "print (r2_score(ypoly_pred,y))"
   ]
  },
  {
   "cell_type": "code",
   "execution_count": 15,
   "metadata": {},
   "outputs": [
    {
     "data": {
      "image/png": "[encoded data removed]",
      "text/plain": [
       "<Figure size 432x288 with 1 Axes>"
      ]
     },
     "metadata": {
      "needs_background": "light"
     },
     "output_type": "display_data"
    }
   ],
   "source": [
    "plt.scatter(x,y, color = 'green') \n",
    "plt.plot(x, ypoly_pred, color = 'blue') \n",
    "plt.title('Polynomial Regression') \n",
    "plt.xlabel('Age') \n",
    "plt.ylabel('Height') \n",
    "plt.show()"
   ]
  },
  {
   "cell_type": "code",
   "execution_count": 22,
   "metadata": {},
   "outputs": [
    {
     "data": {
      "text/plain": [
       "array([164.35339095])"
      ]
     },
     "execution_count": 22,
     "metadata": {},
     "output_type": "execute_result"
    }
   ],
   "source": [
    "# Future Prediction with Regression \n",
    "LinReg.predict([[53]])"
   ]
  },
  {
   "cell_type": "code",
   "execution_count": 23,
   "metadata": {},
   "outputs": [
    {
     "data": {
      "text/plain": [
       "array([162.08784423])"
      ]
     },
     "execution_count": 23,
     "metadata": {},
     "output_type": "execute_result"
    }
   ],
   "source": [
    "# Future Prediction with Polynomial  \n",
    "PolyReg.predict(polynom.fit_transform([[53]]))"
   ]
  },
  {
   "cell_type": "code",
   "execution_count": 24,
   "metadata": {},
   "outputs": [
    {
     "data": {
      "text/plain": [
       "array([0.        , 0.17290266, 0.00652673])"
      ]
     },
     "execution_count": 24,
     "metadata": {},
     "output_type": "execute_result"
    }
   ],
   "source": [
    "# Polynomial Regression Coefficient \n",
    "PolyReg.coef_"
   ]
  },
  {
   "cell_type": "code",
   "execution_count": 25,
   "metadata": {},
   "outputs": [
    {
     "data": {
      "text/plain": [
       "134.59042517505256"
      ]
     },
     "execution_count": 25,
     "metadata": {},
     "output_type": "execute_result"
    }
   ],
   "source": [
    "# Polynomial Regression Intercept \n",
    "PolyReg.intercept_"
   ]
  }
 ],
 "metadata": {
  "kernelspec": {
   "display_name": "Python 3",
   "language": "python",
   "name": "python3"
  },
  "language_info": {
   "codemirror_mode": {
    "name": "ipython",
    "version": 3
   },
   "file_extension": ".py",
   "mimetype": "text/x-python",
   "name": "python",
   "nbconvert_exporter": "python",
   "pygments_lexer": "ipython3",
   "version": "3.8.5"
  }
 },
 "nbformat": 4,
 "nbformat_minor": 4
}
